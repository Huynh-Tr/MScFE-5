{
 "cells": [
  {
   "cell_type": "code",
   "execution_count": 23,
   "metadata": {},
   "outputs": [],
   "source": [
    "import numpy as np\n",
    "import pandas as pd\n",
    "from numpy.fft import fft\n",
    "from scipy import stats\n",
    "from scipy.integrate import quad\n",
    "from scipy.optimize import brute, fmin\n",
    "import datetime"
   ]
  },
  {
   "cell_type": "markdown",
   "metadata": {},
   "source": [
    "# **M1**"
   ]
  },
  {
   "cell_type": "code",
   "execution_count": 2,
   "metadata": {},
   "outputs": [],
   "source": [
    "S0 = 100\n",
    "K = 100\n",
    "T = 1\n",
    "r = 0.05\n",
    "sigma = 0.2"
   ]
  },
  {
   "cell_type": "markdown",
   "metadata": {},
   "source": [
    "## **Black-Scholes model**"
   ]
  },
  {
   "cell_type": "code",
   "execution_count": 3,
   "metadata": {},
   "outputs": [],
   "source": [
    "# BS Model\n",
    "def bs_analytic_call(S0, K, T, r, sigma):\n",
    "    \"BS model\"\n",
    "    d1 = (np.log(S0 / K) + (r + 0.5 * sigma**2) * T) / (sigma * np.sqrt(T))\n",
    "    d2 = d1 - sigma * np.sqrt(T)\n",
    "\n",
    "    return S0 * stats.norm.cdf(d1, 0, 1) - np.exp(-r * T) * K * stats.norm.cdf(d2, 0, 1)"
   ]
  },
  {
   "cell_type": "code",
   "execution_count": 4,
   "metadata": {},
   "outputs": [
    {
     "data": {
      "text/plain": [
       "10.4506"
      ]
     },
     "execution_count": 4,
     "metadata": {},
     "output_type": "execute_result"
    }
   ],
   "source": [
    "bs_analytic_call(S0, K, T, r, sigma).round(4)"
   ]
  },
  {
   "cell_type": "markdown",
   "metadata": {},
   "source": [
    "## **Fourier Transform as in Lewis**"
   ]
  },
  {
   "cell_type": "markdown",
   "metadata": {},
   "source": [
    "### **Black-Scholes Characteristics Function**  \n",
    "\n",
    "$$\\varphi^{BS}(u,T)=e^{(s_0 + (r-\\frac{\\sigma^2}{2}) T ) \\, iu-\\frac{\\sigma^2}{2} u^2 T} = e^{((\\frac{s_0}{T} + r - \\frac{\\sigma^2}{2} ) \\, iu - \\frac{1}{2} \\sigma^2 u^2) T}$$"
   ]
  },
  {
   "cell_type": "markdown",
   "metadata": {},
   "source": [
    "### **Intergrate in Lewis**\n",
    "\n",
    "$$C_0 = S_0 - \\frac{\\sqrt{S_0K}e^{-rT}}{\\pi}\\int^\\infty_0 Re [e^{izk}\\varphi(z-i/2)] \\frac{dz}{z^2 + 1/4}$$"
   ]
  },
  {
   "cell_type": "code",
   "execution_count": 5,
   "metadata": {},
   "outputs": [],
   "source": [
    "def BS_characteristic_func(v, x0, T, r, sigma):\n",
    "    \"\"\"\n",
    "    Computes general Black-Scholes model characteristic function\n",
    "    to be used in Fourier pricing methods like Lewis (2001) and Carr-Madan (1999)\n",
    "    \"\"\"\n",
    "    cf_values = np.exp(\n",
    "        ((x0 / T + r - 0.5 * sigma**2) * 1j * v - 0.5 * sigma**2 * v**2) * T\n",
    "    )\n",
    "    return cf_values"
   ]
  },
  {
   "cell_type": "code",
   "execution_count": 25,
   "metadata": {},
   "outputs": [],
   "source": [
    "def BS_integral(u, S0, K, T, r, sigma):\n",
    "    \"\"\"\n",
    "    Expenssion for the integral in Lewis (2001)\n",
    "    \"\"\"\n",
    "    cf_values = BS_characteristic_func(u - 1j * 0.5, 0.0, T, r, sigma)\n",
    "    int_value = (\n",
    "        1 / (u**2 + 0.25) * (np.exp(1j * u * (np.log(S0 / K))) * cf_values).real\n",
    "    )\n",
    "    return int_value\n",
    "\n",
    "\n",
    "def BS_call_Lewis(S0, K, T, r, sigma):\n",
    "    \"\"\"\n",
    "    European Call option price in BS under Lewis (2001)\n",
    "    \"\"\"\n",
    "    int_value = quad(lambda u: BS_integral(u, S0, K, T, r, sigma), 0, 100)[0]\n",
    "    call_value = max(0, S0 - np.exp(-r * T) * (np.sqrt(S0 * K)) / np.pi * int_value)\n",
    "    return call_value"
   ]
  },
  {
   "cell_type": "code",
   "execution_count": 26,
   "metadata": {},
   "outputs": [
    {
     "name": "stdout",
     "output_type": "stream",
     "text": [
      "Fourier Call Option price under Lewis (2001) is $ 10.4506\n"
     ]
    }
   ],
   "source": [
    "print(\n",
    "    \"Fourier Call Option price under Lewis (2001) is $\",\n",
    "    BS_call_Lewis(S0, K, T, r, sigma).round(4),\n",
    ")"
   ]
  },
  {
   "cell_type": "markdown",
   "metadata": {},
   "source": [
    "### **Fast Fourier Transform (FFT) for Option Pricing**"
   ]
  },
  {
   "cell_type": "code",
   "execution_count": 140,
   "metadata": {},
   "outputs": [
    {
     "name": "stdout",
     "output_type": "stream",
     "text": [
      "2048.0\n"
     ]
    }
   ],
   "source": [
    "    K = 95\n",
    "    S0 = 100\n",
    "    k = np.log(K / S0)\n",
    "    \n",
    "    x0 = np.log(S0 / S0)\n",
    "    \n",
    "    g = 1  # Factor to increase accuracy\n",
    "    N = g * 4096\n",
    "    \n",
    "    eps = (g * 150) ** -1\n",
    "    \n",
    "    eta = 2 * np.pi / (N * eps)\n",
    "    b = 0.5 * N * eps - k\n",
    "    u = np.arange(1, N + 1, 1)\n",
    "    vo = eta * (u - 1)\n",
    "    print((k+b)/eps)"
   ]
  },
  {
   "cell_type": "code",
   "execution_count": 27,
   "metadata": {},
   "outputs": [],
   "source": [
    "def BS_call_fft(S0, K, T, r, sigma):\n",
    "    \"\"\"\n",
    "    European Call Option price in BS under FFT\n",
    "    \"\"\"\n",
    "\n",
    "    k = np.log(K / S0)\n",
    "    x0 = np.log(S0 / S0)\n",
    "    g = 1  # Factor to increase accuracy\n",
    "    N = g * 4096\n",
    "    eps = (g * 150) ** -1\n",
    "    eta = 2 * np.pi / (N * eps)\n",
    "    b = 0.5 * N * eps - k\n",
    "    u = np.arange(1, N + 1, 1)\n",
    "    vo = eta * (u - 1)\n",
    "\n",
    "    # Modification to ensure integrability\n",
    "    # ITM\n",
    "    if S0 >= 0.95 * K:\n",
    "        alpha = 1.5\n",
    "        v = vo - (alpha + 1) * 1j\n",
    "        \n",
    "        modcharFunc = np.exp(-r * T) * (\n",
    "            BS_characteristic_func(v, x0, T, r, sigma)\n",
    "            / (alpha**2 + alpha - vo**2 + 1j * (2 * alpha + 1) * vo)\n",
    "        )\n",
    "    # OTM\n",
    "    else:\n",
    "        alpha = 1.1\n",
    "        v = (vo - 1j * alpha) - 1j\n",
    "        modcharFunc1 = np.exp(-r * T) * (\n",
    "            1 / (1 + 1j * (vo - 1j * alpha))\n",
    "            - np.exp(r * T) / (1j * (vo - 1j * alpha))\n",
    "            - BS_characteristic_func(v, x0, T, r, sigma)\n",
    "            / ((vo - 1j * alpha) ** 2 - 1j * (vo - 1j * alpha))\n",
    "        )\n",
    "\n",
    "        v = (vo + 1j * alpha) - 1j\n",
    "\n",
    "        modcharFunc2 = np.exp(-r * T) * (\n",
    "            1 / (1 + 1j * (vo + 1j * alpha))\n",
    "            - np.exp(r * T) / (1j * (vo + 1j * alpha))\n",
    "            - BS_characteristic_func(v, x0, T, r, sigma)\n",
    "            / ((vo + 1j * alpha) ** 2 - 1j * (vo + 1j * alpha))\n",
    "        )\n",
    "\n",
    "    delt = np.zeros(N)\n",
    "    delt[0] = 1\n",
    "    j = np.arange(1, N + 1, 1)\n",
    "    SimpsonW = (3 + (-1) ** j - delt) / 3\n",
    "    # ITM\n",
    "    if S0 >= 0.95 * K:\n",
    "        FFTFunc = np.exp(1j * b * vo) * modcharFunc * eta * SimpsonW\n",
    "        payoff = (fft(FFTFunc)).real\n",
    "        CallValueM = np.exp(-alpha * k) / np.pi * payoff\n",
    "    # OTM\n",
    "    else:\n",
    "        FFTFunc = (\n",
    "            np.exp(1j * b * vo) * (modcharFunc1 - modcharFunc2) * 0.5 * eta * SimpsonW\n",
    "        )\n",
    "        payoff = (fft(FFTFunc)).real\n",
    "        CallValueM = payoff / (np.sinh(alpha * k) * np.pi)\n",
    "\n",
    "    pos = int((k + b) / eps)\n",
    "    CallValue = CallValueM[pos] * S0\n",
    "\n",
    "    return CallValue"
   ]
  },
  {
   "cell_type": "code",
   "execution_count": 28,
   "metadata": {},
   "outputs": [
    {
     "data": {
      "text/plain": [
       "10.4506"
      ]
     },
     "execution_count": 28,
     "metadata": {},
     "output_type": "execute_result"
    }
   ],
   "source": [
    "BS_call_fft(S0, K, T, r, sigma).round(4)"
   ]
  },
  {
   "cell_type": "code",
   "execution_count": 115,
   "metadata": {},
   "outputs": [
    {
     "name": "stdout",
     "output_type": "stream",
     "text": [
      "0:00:00.001001\n"
     ]
    }
   ],
   "source": [
    "begin = datetime.datetime.utcnow()\n",
    "bs_analytic_call(S0, K, T, r, sigma)\n",
    "end = datetime.datetime.utcnow()\n",
    "x = end - begin\n",
    "print(x)"
   ]
  },
  {
   "cell_type": "markdown",
   "metadata": {},
   "source": [
    "### **Heston Characteristic Function**\n",
    "\n",
    "$$ \\varphi^H(u, T) = e^{H_1(u,T)+H_2(u,T)v_0}$$"
   ]
  },
  {
   "cell_type": "code",
   "execution_count": 18,
   "metadata": {},
   "outputs": [],
   "source": [
    "def H93_char_func(u, T, r, kappa_v, theta_v, sigma_v, rho, v0):\n",
    "    c1 = kappa_v * theta_v\n",
    "    c2 = -np.sqrt(\n",
    "        (rho * sigma_v * u * 1j - kappa_v) ** 2 - sigma_v**2 * (-u * 1j - u**2)\n",
    "    )\n",
    "    c3 = (kappa_v - rho * sigma_v * u * 1j + c2) / (\n",
    "        kappa_v - rho * sigma_v * u * 1j - c2\n",
    "    )\n",
    "    H1 = r * u * 1j * T + (c1 / sigma_v**2) * (\n",
    "        (kappa_v - rho * sigma_v * u * 1j + c2) * T\n",
    "        - 2 * np.log((1 - c3 * np.exp(c2 * T)) / (1 - c3))\n",
    "    )\n",
    "    H2 = (\n",
    "        (kappa_v - rho * sigma_v * u * 1j + c2)\n",
    "        / sigma_v**2\n",
    "        * ((1 - np.exp(c2 * T))\n",
    "        / (1 - c3 * np.exp(c2 * T)))\n",
    "    )\n",
    "\n",
    "    char_func_value = np.exp(H1 + H2 * v0)\n",
    "\n",
    "    return char_func_value"
   ]
  },
  {
   "cell_type": "markdown",
   "metadata": {},
   "source": [
    "### **Integral Value in Lewis (2001)**\n",
    "\n",
    "$$C_0 = S_0 - \\frac{\\sqrt{S_0 K} e^{-rT}}{\\pi} \\int_0^ \\infty Re[e^{izk}\\varphi(z-i/2)] \\frac{dz}{z^2 + 1/4} $$"
   ]
  },
  {
   "cell_type": "code",
   "execution_count": 19,
   "metadata": {},
   "outputs": [],
   "source": [
    "def H93_int_func(u, S0, K, T, r, kappa_v, theta_v, sigma_v, rho, v0):\n",
    "    char_func_value = H93_char_func(\n",
    "        u - 1j / 2, T, r, kappa_v, theta_v, sigma_v, rho, v0\n",
    "    )\n",
    "    int_func_value = (\n",
    "        1 / (u**2 + 0.25) * (np.exp(1j * u * np.log(S0 / K)) * char_func_value).real\n",
    "    )\n",
    "    return int_func_value"
   ]
  },
  {
   "cell_type": "code",
   "execution_count": 13,
   "metadata": {},
   "outputs": [],
   "source": [
    "def H93_call_value(S0, K, T, r, kappa_v, theta_v, sigma_v, rho, v0):\n",
    "    int_value = quad(\n",
    "        lambda u: H93_int_func(u, S0, K, T, r, kappa_v, theta_v, sigma_v, rho, v0),\n",
    "        0,\n",
    "        np.inf,\n",
    "        limit=250,\n",
    "    )[0]\n",
    "    call_value = max(0, S0 - np.exp(-r * T) * np.sqrt(S0 * K) / np.pi * int_value)\n",
    "    return call_value"
   ]
  },
  {
   "cell_type": "code",
   "execution_count": 20,
   "metadata": {},
   "outputs": [
    {
     "data": {
      "text/plain": [
       "5.757807070918929"
      ]
     },
     "execution_count": 20,
     "metadata": {},
     "output_type": "execute_result"
    }
   ],
   "source": [
    "S0 = 100.0\n",
    "K = 100.0\n",
    "T = 1.0\n",
    "r = 0.02\n",
    "\n",
    "kappa_v = 1.5\n",
    "theta_v = 0.02\n",
    "sigma_v = 0.15\n",
    "rho = 0.1\n",
    "v0 = 0.01\n",
    "\n",
    "H93_call_value(S0, K, T, r, kappa_v, theta_v, sigma_v, rho, v0)"
   ]
  },
  {
   "cell_type": "markdown",
   "metadata": {},
   "source": [
    "### **Heston model Calibration**"
   ]
  },
  {
   "cell_type": "code",
   "execution_count": 33,
   "metadata": {},
   "outputs": [],
   "source": [
    "h5 = pd.HDFStore(\n",
    "    \"option_data_wqu.M1.h5\", \"r\"\n",
    ")\n",
    "data = h5['data']\n",
    "h5.close()\n",
    "S0 = 3225.93"
   ]
  },
  {
   "cell_type": "code",
   "execution_count": 50,
   "metadata": {},
   "outputs": [
    {
     "name": "stderr",
     "output_type": "stream",
     "text": [
      "C:\\Users\\huynh.th\\AppData\\Local\\Temp\\ipykernel_21844\\1616837008.py:3: SettingWithCopyWarning: \n",
      "A value is trying to be set on a copy of a slice from a DataFrame.\n",
      "Try using .loc[row_indexer,col_indexer] = value instead\n",
      "\n",
      "See the caveats in the documentation: https://pandas.pydata.org/pandas-docs/stable/user_guide/indexing.html#returning-a-view-versus-a-copy\n",
      "  options[\"Date\"] = pd.DatetimeIndex(options[\"Date\"])\n",
      "C:\\Users\\huynh.th\\AppData\\Local\\Temp\\ipykernel_21844\\1616837008.py:4: SettingWithCopyWarning: \n",
      "A value is trying to be set on a copy of a slice from a DataFrame.\n",
      "Try using .loc[row_indexer,col_indexer] = value instead\n",
      "\n",
      "See the caveats in the documentation: https://pandas.pydata.org/pandas-docs/stable/user_guide/indexing.html#returning-a-view-versus-a-copy\n",
      "  options[\"Maturity\"] = pd.DatetimeIndex(options[\"Maturity\"])\n"
     ]
    }
   ],
   "source": [
    "tol = 0.02\n",
    "options = data[(np.abs(data[\"Strike\"] - S0) / S0 ) < tol]\n",
    "options[\"Date\"] = pd.DatetimeIndex(options[\"Date\"])\n",
    "options[\"Maturity\"] = pd.DatetimeIndex(options[\"Maturity\"])"
   ]
  },
  {
   "cell_type": "code",
   "execution_count": 111,
   "metadata": {},
   "outputs": [
    {
     "data": {
      "text/html": [
       "<div>\n",
       "<style scoped>\n",
       "    .dataframe tbody tr th:only-of-type {\n",
       "        vertical-align: middle;\n",
       "    }\n",
       "\n",
       "    .dataframe tbody tr th {\n",
       "        vertical-align: top;\n",
       "    }\n",
       "\n",
       "    .dataframe thead th {\n",
       "        text-align: right;\n",
       "    }\n",
       "</style>\n",
       "<table border=\"1\" class=\"dataframe\">\n",
       "  <thead>\n",
       "    <tr style=\"text-align: right;\">\n",
       "      <th></th>\n",
       "      <th>Date</th>\n",
       "      <th>Strike</th>\n",
       "      <th>Call</th>\n",
       "      <th>Maturity</th>\n",
       "      <th>Put</th>\n",
       "    </tr>\n",
       "  </thead>\n",
       "  <tbody>\n",
       "    <tr>\n",
       "      <th>0</th>\n",
       "      <td>1412035200000000000</td>\n",
       "      <td>1850.0</td>\n",
       "      <td>1373.6</td>\n",
       "      <td>1418947200000000000</td>\n",
       "      <td>0.5</td>\n",
       "    </tr>\n",
       "    <tr>\n",
       "      <th>1</th>\n",
       "      <td>1412035200000000000</td>\n",
       "      <td>1900.0</td>\n",
       "      <td>1323.7</td>\n",
       "      <td>1418947200000000000</td>\n",
       "      <td>0.6</td>\n",
       "    </tr>\n",
       "    <tr>\n",
       "      <th>2</th>\n",
       "      <td>1412035200000000000</td>\n",
       "      <td>1950.0</td>\n",
       "      <td>1273.8</td>\n",
       "      <td>1418947200000000000</td>\n",
       "      <td>0.8</td>\n",
       "    </tr>\n",
       "    <tr>\n",
       "      <th>3</th>\n",
       "      <td>1412035200000000000</td>\n",
       "      <td>2000.0</td>\n",
       "      <td>1223.9</td>\n",
       "      <td>1418947200000000000</td>\n",
       "      <td>0.9</td>\n",
       "    </tr>\n",
       "    <tr>\n",
       "      <th>4</th>\n",
       "      <td>1412035200000000000</td>\n",
       "      <td>2050.0</td>\n",
       "      <td>1174.1</td>\n",
       "      <td>1418947200000000000</td>\n",
       "      <td>1.1</td>\n",
       "    </tr>\n",
       "  </tbody>\n",
       "</table>\n",
       "</div>"
      ],
      "text/plain": [
       "                  Date  Strike    Call             Maturity  Put\n",
       "0  1412035200000000000  1850.0  1373.6  1418947200000000000  0.5\n",
       "1  1412035200000000000  1900.0  1323.7  1418947200000000000  0.6\n",
       "2  1412035200000000000  1950.0  1273.8  1418947200000000000  0.8\n",
       "3  1412035200000000000  2000.0  1223.9  1418947200000000000  0.9\n",
       "4  1412035200000000000  2050.0  1174.1  1418947200000000000  1.1"
      ]
     },
     "execution_count": 111,
     "metadata": {},
     "output_type": "execute_result"
    }
   ],
   "source": [
    "data.head()"
   ]
  },
  {
   "cell_type": "code",
   "execution_count": 112,
   "metadata": {},
   "outputs": [
    {
     "data": {
      "text/html": [
       "<div>\n",
       "<style scoped>\n",
       "    .dataframe tbody tr th:only-of-type {\n",
       "        vertical-align: middle;\n",
       "    }\n",
       "\n",
       "    .dataframe tbody tr th {\n",
       "        vertical-align: top;\n",
       "    }\n",
       "\n",
       "    .dataframe thead th {\n",
       "        text-align: right;\n",
       "    }\n",
       "</style>\n",
       "<table border=\"1\" class=\"dataframe\">\n",
       "  <thead>\n",
       "    <tr style=\"text-align: right;\">\n",
       "      <th></th>\n",
       "      <th>Date</th>\n",
       "      <th>Strike</th>\n",
       "      <th>Call</th>\n",
       "      <th>Maturity</th>\n",
       "      <th>Put</th>\n",
       "      <th>T</th>\n",
       "      <th>r</th>\n",
       "    </tr>\n",
       "  </thead>\n",
       "  <tbody>\n",
       "    <tr>\n",
       "      <th>38</th>\n",
       "      <td>2014-09-30</td>\n",
       "      <td>3175.0</td>\n",
       "      <td>126.8</td>\n",
       "      <td>2014-12-19</td>\n",
       "      <td>78.8</td>\n",
       "      <td>0.219178</td>\n",
       "      <td>0.02</td>\n",
       "    </tr>\n",
       "    <tr>\n",
       "      <th>39</th>\n",
       "      <td>2014-09-30</td>\n",
       "      <td>3200.0</td>\n",
       "      <td>110.9</td>\n",
       "      <td>2014-12-19</td>\n",
       "      <td>87.9</td>\n",
       "      <td>0.219178</td>\n",
       "      <td>0.02</td>\n",
       "    </tr>\n",
       "    <tr>\n",
       "      <th>40</th>\n",
       "      <td>2014-09-30</td>\n",
       "      <td>3225.0</td>\n",
       "      <td>96.1</td>\n",
       "      <td>2014-12-19</td>\n",
       "      <td>98.1</td>\n",
       "      <td>0.219178</td>\n",
       "      <td>0.02</td>\n",
       "    </tr>\n",
       "    <tr>\n",
       "      <th>41</th>\n",
       "      <td>2014-09-30</td>\n",
       "      <td>3250.0</td>\n",
       "      <td>82.3</td>\n",
       "      <td>2014-12-19</td>\n",
       "      <td>109.3</td>\n",
       "      <td>0.219178</td>\n",
       "      <td>0.02</td>\n",
       "    </tr>\n",
       "    <tr>\n",
       "      <th>42</th>\n",
       "      <td>2014-09-30</td>\n",
       "      <td>3275.0</td>\n",
       "      <td>69.6</td>\n",
       "      <td>2014-12-19</td>\n",
       "      <td>121.6</td>\n",
       "      <td>0.219178</td>\n",
       "      <td>0.02</td>\n",
       "    </tr>\n",
       "    <tr>\n",
       "      <th>342</th>\n",
       "      <td>2014-09-30</td>\n",
       "      <td>3175.0</td>\n",
       "      <td>171.0</td>\n",
       "      <td>2015-03-20</td>\n",
       "      <td>129.2</td>\n",
       "      <td>0.468493</td>\n",
       "      <td>0.02</td>\n",
       "    </tr>\n",
       "    <tr>\n",
       "      <th>343</th>\n",
       "      <td>2014-09-30</td>\n",
       "      <td>3200.0</td>\n",
       "      <td>156.1</td>\n",
       "      <td>2015-03-20</td>\n",
       "      <td>139.4</td>\n",
       "      <td>0.468493</td>\n",
       "      <td>0.02</td>\n",
       "    </tr>\n",
       "    <tr>\n",
       "      <th>344</th>\n",
       "      <td>2014-09-30</td>\n",
       "      <td>3225.0</td>\n",
       "      <td>142.0</td>\n",
       "      <td>2015-03-20</td>\n",
       "      <td>150.3</td>\n",
       "      <td>0.468493</td>\n",
       "      <td>0.02</td>\n",
       "    </tr>\n",
       "    <tr>\n",
       "      <th>345</th>\n",
       "      <td>2014-09-30</td>\n",
       "      <td>3250.0</td>\n",
       "      <td>128.5</td>\n",
       "      <td>2015-03-20</td>\n",
       "      <td>161.8</td>\n",
       "      <td>0.468493</td>\n",
       "      <td>0.02</td>\n",
       "    </tr>\n",
       "    <tr>\n",
       "      <th>346</th>\n",
       "      <td>2014-09-30</td>\n",
       "      <td>3275.0</td>\n",
       "      <td>115.8</td>\n",
       "      <td>2015-03-20</td>\n",
       "      <td>174.0</td>\n",
       "      <td>0.468493</td>\n",
       "      <td>0.02</td>\n",
       "    </tr>\n",
       "    <tr>\n",
       "      <th>456</th>\n",
       "      <td>2014-09-30</td>\n",
       "      <td>3175.0</td>\n",
       "      <td>82.3</td>\n",
       "      <td>2014-10-17</td>\n",
       "      <td>24.5</td>\n",
       "      <td>0.046575</td>\n",
       "      <td>0.02</td>\n",
       "    </tr>\n",
       "    <tr>\n",
       "      <th>457</th>\n",
       "      <td>2014-09-30</td>\n",
       "      <td>3200.0</td>\n",
       "      <td>64.3</td>\n",
       "      <td>2014-10-17</td>\n",
       "      <td>31.5</td>\n",
       "      <td>0.046575</td>\n",
       "      <td>0.02</td>\n",
       "    </tr>\n",
       "    <tr>\n",
       "      <th>458</th>\n",
       "      <td>2014-09-30</td>\n",
       "      <td>3225.0</td>\n",
       "      <td>48.3</td>\n",
       "      <td>2014-10-17</td>\n",
       "      <td>40.5</td>\n",
       "      <td>0.046575</td>\n",
       "      <td>0.02</td>\n",
       "    </tr>\n",
       "    <tr>\n",
       "      <th>459</th>\n",
       "      <td>2014-09-30</td>\n",
       "      <td>3250.0</td>\n",
       "      <td>34.6</td>\n",
       "      <td>2014-10-17</td>\n",
       "      <td>51.8</td>\n",
       "      <td>0.046575</td>\n",
       "      <td>0.02</td>\n",
       "    </tr>\n",
       "    <tr>\n",
       "      <th>460</th>\n",
       "      <td>2014-09-30</td>\n",
       "      <td>3275.0</td>\n",
       "      <td>23.5</td>\n",
       "      <td>2014-10-17</td>\n",
       "      <td>65.8</td>\n",
       "      <td>0.046575</td>\n",
       "      <td>0.02</td>\n",
       "    </tr>\n",
       "  </tbody>\n",
       "</table>\n",
       "</div>"
      ],
      "text/plain": [
       "          Date  Strike   Call   Maturity    Put         T     r\n",
       "38  2014-09-30  3175.0  126.8 2014-12-19   78.8  0.219178  0.02\n",
       "39  2014-09-30  3200.0  110.9 2014-12-19   87.9  0.219178  0.02\n",
       "40  2014-09-30  3225.0   96.1 2014-12-19   98.1  0.219178  0.02\n",
       "41  2014-09-30  3250.0   82.3 2014-12-19  109.3  0.219178  0.02\n",
       "42  2014-09-30  3275.0   69.6 2014-12-19  121.6  0.219178  0.02\n",
       "342 2014-09-30  3175.0  171.0 2015-03-20  129.2  0.468493  0.02\n",
       "343 2014-09-30  3200.0  156.1 2015-03-20  139.4  0.468493  0.02\n",
       "344 2014-09-30  3225.0  142.0 2015-03-20  150.3  0.468493  0.02\n",
       "345 2014-09-30  3250.0  128.5 2015-03-20  161.8  0.468493  0.02\n",
       "346 2014-09-30  3275.0  115.8 2015-03-20  174.0  0.468493  0.02\n",
       "456 2014-09-30  3175.0   82.3 2014-10-17   24.5  0.046575  0.02\n",
       "457 2014-09-30  3200.0   64.3 2014-10-17   31.5  0.046575  0.02\n",
       "458 2014-09-30  3225.0   48.3 2014-10-17   40.5  0.046575  0.02\n",
       "459 2014-09-30  3250.0   34.6 2014-10-17   51.8  0.046575  0.02\n",
       "460 2014-09-30  3275.0   23.5 2014-10-17   65.8  0.046575  0.02"
      ]
     },
     "execution_count": 112,
     "metadata": {},
     "output_type": "execute_result"
    }
   ],
   "source": [
    "options"
   ]
  },
  {
   "cell_type": "code",
   "execution_count": 101,
   "metadata": {},
   "outputs": [
    {
     "name": "stderr",
     "output_type": "stream",
     "text": [
      "C:\\Users\\huynh.th\\AppData\\Local\\Temp\\ipykernel_21844\\3597326862.py:2: SettingWithCopyWarning: \n",
      "A value is trying to be set on a copy of a slice from a DataFrame.\n",
      "Try using .loc[row_indexer,col_indexer] = value instead\n",
      "\n",
      "See the caveats in the documentation: https://pandas.pydata.org/pandas-docs/stable/user_guide/indexing.html#returning-a-view-versus-a-copy\n",
      "  options[\"T\"] = T\n",
      "C:\\Users\\huynh.th\\AppData\\Local\\Temp\\ipykernel_21844\\3597326862.py:3: SettingWithCopyWarning: \n",
      "A value is trying to be set on a copy of a slice from a DataFrame.\n",
      "Try using .loc[row_indexer,col_indexer] = value instead\n",
      "\n",
      "See the caveats in the documentation: https://pandas.pydata.org/pandas-docs/stable/user_guide/indexing.html#returning-a-view-versus-a-copy\n",
      "  options[\"r\"] = 0.02\n"
     ]
    }
   ],
   "source": [
    "T = (options[\"Maturity\"] - options[\"Date\"]).dt.days / 365.0\n",
    "options[\"T\"] = T \n",
    "options[\"r\"] = 0.02"
   ]
  },
  {
   "cell_type": "code",
   "execution_count": 128,
   "metadata": {},
   "outputs": [],
   "source": [
    "i = 0\n",
    "min_MSE = 500"
   ]
  },
  {
   "cell_type": "code",
   "execution_count": 127,
   "metadata": {},
   "outputs": [],
   "source": [
    "def H93_error_function(p0):\n",
    "    global i, min_MSE\n",
    "    kappa_v, theta_v, sigma_v, rho, v0 = p0 \n",
    "    if kappa_v < 0.0 or theta_v < 0.005 or sigma_v < 0.0 or rho < -1.0 or rho > 1.0:\n",
    "        return 500.0\n",
    "    if 2 * kappa_v * theta_v < sigma_v ** 2:\n",
    "        return 500.0\n",
    "    se = []\n",
    "    for row, option in options.iterrows():\n",
    "        model_value = H93_call_value(\n",
    "            S0,\n",
    "            option[\"Strike\"],\n",
    "            option[\"T\"],\n",
    "            option[\"r\"],\n",
    "            kappa_v,\n",
    "            theta_v,\n",
    "            sigma_v,\n",
    "            rho,\n",
    "            v0\n",
    "        )\n",
    "\n",
    "        se.append((model_value - option[\"Call\"]) ** 2)\n",
    "\n",
    "    MSE = sum(se)/len(se)\n",
    "    min_MSE = min(min_MSE, MSE)\n",
    "    if i % 25 == 0:\n",
    "        print(\"%4d |\" % i, np.array(p0).round(2), \"| %7.3f | %7.3f\" % (MSE, min_MSE))\n",
    "    i += 1\n",
    "    return MSE"
   ]
  },
  {
   "cell_type": "code",
   "execution_count": 114,
   "metadata": {},
   "outputs": [],
   "source": [
    "def H93_calibration_full():\n",
    "    p0 = brute(\n",
    "        H93_error_function,\n",
    "        (\n",
    "            (2.5, 10.6, 5.0),\n",
    "            (0.01, 0.041, 0.01),\n",
    "            (0.05, 0.251, 0.1),\n",
    "            (-0.75, 0.01, 0.25),\n",
    "            (0.01, 0.031, 0.01)\n",
    "        ),\n",
    "        finish = None\n",
    "    )\n",
    "    opt = fmin(\n",
    "        H93_error_function, p0, xtol = .000001, ftol = .000001, maxiter =  750, maxfun = 900\n",
    "    )\n",
    "    return opt"
   ]
  },
  {
   "cell_type": "code",
   "execution_count": 129,
   "metadata": {},
   "outputs": [
    {
     "name": "stdout",
     "output_type": "stream",
     "text": [
      "   0 | [ 2.5   0.01  0.05 -0.75  0.01] | 820.892 | 500.000\n",
      "  25 | [ 2.5   0.02  0.05 -0.75  0.02] |  23.864 |  21.568\n",
      "  50 | [ 2.5   0.02  0.25 -0.75  0.03] |  89.655 |  21.568\n",
      "  75 | [ 2.5   0.03  0.15 -0.5   0.01] | 193.283 |  21.568\n",
      " 100 | [ 2.5   0.04  0.05 -0.5   0.02] | 176.340 |  21.568\n",
      " 125 | [ 2.5   0.04  0.25 -0.5   0.03] | 486.965 |  21.568\n",
      " 150 | [ 7.5   0.01  0.15 -0.25  0.01] | 840.337 |  21.568\n",
      " 175 | [ 7.5   0.02  0.05 -0.25  0.02] |  24.810 |  21.568\n",
      " 200 | [ 7.5   0.02  0.25 -0.25  0.03] |  24.834 |  21.568\n",
      " 225 | [7.5  0.03 0.15 0.   0.01] | 110.936 |  21.568\n",
      " 250 | [7.5  0.04 0.05 0.   0.02] | 540.183 |  21.568\n",
      " 275 | [7.5  0.04 0.25 0.   0.03] | 783.222 |  21.568\n",
      " 300 | [ 2.61  0.01  0.16 -0.76  0.03] |   8.046 |   7.795\n",
      " 325 | [ 1.92  0.01  0.16 -0.92  0.02] |   6.301 |   6.146\n",
      " 350 | [ 2.05  0.01  0.16 -0.89  0.03] |   6.151 |   6.145\n",
      " 375 | [ 2.04  0.01  0.17 -0.87  0.03] |   6.097 |   6.075\n",
      " 400 | [ 1.97  0.01  0.2  -0.83  0.03] |   6.002 |   5.996\n",
      " 425 | [ 2.08  0.01  0.21 -0.83  0.03] |   5.948 |   5.948\n",
      " 450 | [ 2.67  0.01  0.23 -0.88  0.03] |   5.684 |   5.684\n",
      " 475 | [ 3.15  0.02  0.23 -0.86  0.03] |   5.358 |   5.358\n",
      " 500 | [ 3.75  0.02  0.34 -0.73  0.03] |   4.603 |   4.499\n",
      " 525 | [ 5.15  0.02  0.4  -0.46  0.03] |   3.894 |   3.825\n",
      " 550 | [ 5.14  0.02  0.43 -0.43  0.03] |   3.769 |   3.749\n",
      " 575 | [ 5.05  0.02  0.43 -0.45  0.03] |   3.719 |   3.717\n",
      " 600 | [ 5.05  0.02  0.43 -0.45  0.03] |   3.716 |   3.716\n",
      " 625 | [ 5.05  0.02  0.44 -0.45  0.03] |   3.716 |   3.715\n",
      " 650 | [ 5.04  0.02  0.43 -0.45  0.03] |   3.715 |   3.715\n",
      " 675 | [ 5.04  0.02  0.43 -0.45  0.03] |   3.715 |   3.715\n",
      " 700 | [ 5.04  0.02  0.43 -0.45  0.03] |   3.715 |   3.715\n",
      " 725 | [ 5.04  0.02  0.43 -0.45  0.03] |   3.715 |   3.715\n",
      " 750 | [ 5.05  0.02  0.43 -0.45  0.03] |   3.715 |   3.715\n",
      " 775 | [ 5.05  0.02  0.43 -0.45  0.03] |   3.715 |   3.715\n",
      " 800 | [ 5.05  0.02  0.43 -0.45  0.03] |   3.715 |   3.715\n",
      " 825 | [ 5.05  0.02  0.43 -0.45  0.03] |   3.715 |   3.715\n",
      " 850 | [ 5.05  0.02  0.43 -0.45  0.03] |   3.715 |   3.715\n",
      " 875 | [ 5.05  0.02  0.43 -0.45  0.03] |   3.715 |   3.715\n",
      " 900 | [ 5.05  0.02  0.43 -0.45  0.03] |   3.715 |   3.715\n",
      " 925 | [ 5.05  0.02  0.43 -0.45  0.03] |   3.715 |   3.715\n",
      "Optimization terminated successfully.\n",
      "         Current function value: 3.715367\n",
      "         Iterations: 487\n",
      "         Function evaluations: 810\n"
     ]
    },
    {
     "data": {
      "text/plain": [
       "array([ 5.04735825,  0.01872573,  0.43477689, -0.44795621,  0.02728912])"
      ]
     },
     "execution_count": 129,
     "metadata": {},
     "output_type": "execute_result"
    }
   ],
   "source": [
    "H93_calibration_full()"
   ]
  }
 ],
 "metadata": {
  "kernelspec": {
   "display_name": "Python 3",
   "language": "python",
   "name": "python3"
  },
  "language_info": {
   "codemirror_mode": {
    "name": "ipython",
    "version": 3
   },
   "file_extension": ".py",
   "mimetype": "text/x-python",
   "name": "python",
   "nbconvert_exporter": "python",
   "pygments_lexer": "ipython3",
   "version": "3.11.7"
  }
 },
 "nbformat": 4,
 "nbformat_minor": 2
}
