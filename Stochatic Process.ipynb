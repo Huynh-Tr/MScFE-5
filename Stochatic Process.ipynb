{
 "cells": [
  {
   "cell_type": "code",
   "execution_count": 36,
   "metadata": {},
   "outputs": [],
   "source": [
    "import numpy as np\n",
    "from numpy.fft import fft\n",
    "from scipy import stats\n",
    "from scipy.integrate import quad\n",
    "import datetime"
   ]
  },
  {
   "cell_type": "markdown",
   "metadata": {},
   "source": [
    "# **M1**"
   ]
  },
  {
   "cell_type": "code",
   "execution_count": 1,
   "metadata": {},
   "outputs": [],
   "source": [
    "S0 = 100\n",
    "K = 100\n",
    "T = 1\n",
    "r = 0.05\n",
    "sigma = 0.2"
   ]
  },
  {
   "cell_type": "markdown",
   "metadata": {},
   "source": [
    "## **Black-Scholes model**"
   ]
  },
  {
   "cell_type": "code",
   "execution_count": 32,
   "metadata": {},
   "outputs": [],
   "source": [
    "# BS Model\n",
    "def bs_analytic_call(S0, K, T, r, sigma):\n",
    "    \"BS model\"\n",
    "    d1 = (np.log(S0 / K) + (r + 0.5 * sigma**2) * T) / (sigma * np.sqrt(T))\n",
    "    d2 = d1 - sigma * np.sqrt(T)\n",
    "\n",
    "    return S0 * stats.norm.cdf(d1, 0, 1) - np.exp(-r * T) * K * stats.norm.cdf(d2, 0, 1)"
   ]
  },
  {
   "cell_type": "code",
   "execution_count": 33,
   "metadata": {},
   "outputs": [
    {
     "data": {
      "text/plain": [
       "10.4506"
      ]
     },
     "execution_count": 33,
     "metadata": {},
     "output_type": "execute_result"
    }
   ],
   "source": [
    "bs_analytic_call(S0, K, T, r, sigma).round(4)"
   ]
  },
  {
   "cell_type": "markdown",
   "metadata": {},
   "source": [
    "## **Fourier Transform as in Lewis**"
   ]
  },
  {
   "cell_type": "markdown",
   "metadata": {},
   "source": [
    "### Black-Scholes Characteristics Function  \n",
    "\n",
    "$$\\varphi^{BS}(u,T)=e^{((r-\\frac{\\sigma^2}{2})iu-\\frac{\\sigma^2}{2} u^2)T}$$"
   ]
  },
  {
   "cell_type": "markdown",
   "metadata": {},
   "source": [
    "### Intergrate in Lewis  \n",
    "\n",
    "$$C_0 = S_0 - \\frac{\\sqrt{S_0K}e^{-rT}}{\\pi}\\int^\\infty_0 Re [e^{izk}\\varphi(z-i/2)] \\frac{dz}{z^2 + 1/4}$$"
   ]
  },
  {
   "cell_type": "code",
   "execution_count": 24,
   "metadata": {},
   "outputs": [],
   "source": [
    "def BS_characteristic_func(v, x0, T, r, sigma):\n",
    "    \"\"\"\n",
    "    Computes general Black-Scholes model characteristic function\n",
    "    to be used in Fourier pricing methods like Lewis (2001) and Carr-Madan (1999)\n",
    "    \"\"\"\n",
    "    cf_values = np.exp(\n",
    "        ((x0 / T + r - 0.5 * sigma**2) * 1j * v - 0.5 * sigma**2 * v**2) * T\n",
    "    )\n",
    "    return cf_values"
   ]
  },
  {
   "cell_type": "code",
   "execution_count": 25,
   "metadata": {},
   "outputs": [],
   "source": [
    "def BS_integral(u, S0, K, T, r, sigma):\n",
    "    \"\"\"\n",
    "    Expenssion for the integral in Lewis (2001)\n",
    "    \"\"\"\n",
    "    cf_values = BS_characteristic_func(u - 1j * 0.5, 0.0, T, r, sigma)\n",
    "    int_value = (\n",
    "        1 / (u**2 + 0.25) * (np.exp(1j * u * (np.log(S0 / K))) * cf_values).real\n",
    "    )\n",
    "    return int_value\n",
    "\n",
    "\n",
    "def BS_call_Lewis(S0, K, T, r, sigma):\n",
    "    \"\"\"\n",
    "    European Call option price in BS under Lewis (2001)\n",
    "    \"\"\"\n",
    "    int_value = quad(lambda u: BS_integral(u, S0, K, T, r, sigma), 0, 100)[0]\n",
    "    call_value = max(0, S0 - np.exp(-r * T) * (np.sqrt(S0 * K)) / np.pi * int_value)\n",
    "    return call_value"
   ]
  },
  {
   "cell_type": "code",
   "execution_count": 26,
   "metadata": {},
   "outputs": [
    {
     "name": "stdout",
     "output_type": "stream",
     "text": [
      "Fourier Call Option price under Lewis (2001) is $ 10.4506\n"
     ]
    }
   ],
   "source": [
    "print(\n",
    "    \"Fourier Call Option price under Lewis (2001) is $\",\n",
    "    BS_call_Lewis(S0, K, T, r, sigma).round(4),\n",
    ")"
   ]
  },
  {
   "cell_type": "markdown",
   "metadata": {},
   "source": [
    "### **Fast Fourier Transform (FFT) for Option Pricing**"
   ]
  },
  {
   "cell_type": "code",
   "execution_count": 27,
   "metadata": {},
   "outputs": [],
   "source": [
    "def BS_call_fft(S0, K, T, r, sigma):\n",
    "    \"\"\"\n",
    "    European Call Option price in BS under FFT\n",
    "    \"\"\"\n",
    "\n",
    "    k = np.log(K / S0)\n",
    "    x0 = np.log(S0 / S0)\n",
    "    g = 1  # Factor to increase accuracy\n",
    "    N = g * 4096\n",
    "    eps = (g * 150) ** -1\n",
    "    eta = 2 * np.pi / (N * eps)\n",
    "    b = 0.5 * N * eps - k\n",
    "    u = np.arange(1, N + 1, 1)\n",
    "    vo = eta * (u - 1)\n",
    "\n",
    "    # Modification to ensure integrability\n",
    "    if S0 >= 0.95 * K:\n",
    "        alpha = 1.5\n",
    "        v = vo - (alpha + 1) * 1j\n",
    "        modcharFunc = np.exp(-r * T) * (\n",
    "            BS_characteristic_func(v, x0, T, r, sigma)\n",
    "            / (alpha**2 + alpha - vo**2 + 1j * (2 * alpha + 1) * vo)\n",
    "        )\n",
    "\n",
    "    else:\n",
    "        alpha = 1.1\n",
    "        v = (vo - 1j * alpha) - 1j\n",
    "        modcharFunc1 = np.exp(-r * T) * (\n",
    "            1 / (1 + 1j * (vo - 1j * alpha))\n",
    "            - np.exp(r * T) / (1j * (vo - 1j * alpha))\n",
    "            - BS_characteristic_func(v, x0, T, r, sigma)\n",
    "            / ((vo - 1j * alpha) ** 2 - 1j * (vo - 1j * alpha))\n",
    "        )\n",
    "\n",
    "        v = (vo + 1j * alpha) - 1j\n",
    "\n",
    "        modcharFunc2 = np.exp(-r * T) * (\n",
    "            1 / (1 + 1j * (vo + 1j * alpha))\n",
    "            - np.exp(r * T) / (1j * (vo + 1j * alpha))\n",
    "            - BS_characteristic_func(v, x0, T, r, sigma)\n",
    "            / ((vo + 1j * alpha) ** 2 - 1j * (vo + 1j * alpha))\n",
    "        )\n",
    "\n",
    "    delt = np.zeros(N)\n",
    "    delt[0] = 1\n",
    "    j = np.arange(1, N + 1, 1)\n",
    "    SimpsonW = (3 + (-1) ** j - delt) / 3\n",
    "    if S0 >= 0.95 * K:\n",
    "        FFTFunc = np.exp(1j * b * vo) * modcharFunc * eta * SimpsonW\n",
    "        payoff = (fft(FFTFunc)).real\n",
    "        CallValueM = np.exp(-alpha * k) / np.pi * payoff\n",
    "    else:\n",
    "        FFTFunc = (\n",
    "            np.exp(1j * b * vo) * (modcharFunc1 - modcharFunc2) * 0.5 * eta * SimpsonW\n",
    "        )\n",
    "        payoff = (fft(FFTFunc)).real\n",
    "        CallValueM = payoff / (np.sinh(alpha * k) * np.pi)\n",
    "\n",
    "    pos = int((k + b) / eps)\n",
    "    CallValue = CallValueM[pos] * S0\n",
    "\n",
    "    return CallValue"
   ]
  },
  {
   "cell_type": "code",
   "execution_count": 28,
   "metadata": {},
   "outputs": [
    {
     "data": {
      "text/plain": [
       "10.4506"
      ]
     },
     "execution_count": 28,
     "metadata": {},
     "output_type": "execute_result"
    }
   ],
   "source": [
    "BS_call_fft(S0, K, T, r, sigma).round(4)"
   ]
  },
  {
   "cell_type": "code",
   "execution_count": 115,
   "metadata": {},
   "outputs": [
    {
     "name": "stdout",
     "output_type": "stream",
     "text": [
      "0:00:00.001001\n"
     ]
    }
   ],
   "source": [
    "begin = datetime.datetime.utcnow()\n",
    "bs_analytic_call(S0, K, T, r, sigma)\n",
    "end = datetime.datetime.utcnow()\n",
    "x = end - begin\n",
    "print(x)"
   ]
  }
 ],
 "metadata": {
  "kernelspec": {
   "display_name": "Python 3",
   "language": "python",
   "name": "python3"
  },
  "language_info": {
   "codemirror_mode": {
    "name": "ipython",
    "version": 3
   },
   "file_extension": ".py",
   "mimetype": "text/x-python",
   "name": "python",
   "nbconvert_exporter": "python",
   "pygments_lexer": "ipython3",
   "version": "3.11.7"
  }
 },
 "nbformat": 4,
 "nbformat_minor": 2
}
